{
 "cells": [
  {
   "cell_type": "code",
   "execution_count": 27,
   "metadata": {},
   "outputs": [],
   "source": [
    "from tkinter import Tk,Menu"
   ]
  },
  {
   "cell_type": "code",
   "execution_count": 28,
   "metadata": {},
   "outputs": [],
   "source": [
    "# create the application window\n",
    "top = Tk()"
   ]
  },
  {
   "cell_type": "code",
   "execution_count": 29,
   "metadata": {},
   "outputs": [],
   "source": [
    "def hello():\n",
    "    print(\"Hello World!!\")"
   ]
  },
  {
   "cell_type": "code",
   "execution_count": 30,
   "metadata": {},
   "outputs": [],
   "source": [
    "menubar = Menu(top)\n",
    "file = Menu(menubar, tearoff=0)\n",
    "file.add_command(label=\"New\")\n",
    "file.add_command(label=\"Open File..\")\n",
    "file.add_command(label=\"Save\")\n",
    "file.add_command(label=\"Save As...\")\n",
    "file.add_separator()\n",
    "file.add_command(label=\"Exit\", command=top.quit)  \n",
    "menubar.add_cascade(label='File', menu=file)\n"
   ]
  },
  {
   "cell_type": "code",
   "execution_count": 31,
   "metadata": {},
   "outputs": [],
   "source": [
    "edit = Menu(menubar, tearoff=0)  \n",
    "edit.add_command(label=\"Undo\")  \n",
    "  \n",
    "edit.add_separator()  \n",
    "  \n",
    "edit.add_command(label=\"Cut\")  \n",
    "edit.add_command(label=\"Copy\")  \n",
    "edit.add_command(label=\"Paste\")  \n",
    "edit.add_command(label=\"Delete\")  \n",
    "edit.add_command(label=\"Select All\")  \n",
    "  \n",
    "menubar.add_cascade(label=\"Edit\", menu=edit)  "
   ]
  },
  {
   "cell_type": "code",
   "execution_count": 32,
   "metadata": {},
   "outputs": [],
   "source": [
    "help = Menu(menubar, tearoff=0)  \n",
    "help.add_command(label=\"About\")  \n",
    "menubar.add_cascade(label=\"Help\", menu=help)  "
   ]
  },
  {
   "cell_type": "code",
   "execution_count": 33,
   "metadata": {},
   "outputs": [],
   "source": [
    "top.config(menu=menubar)"
   ]
  },
  {
   "cell_type": "code",
   "execution_count": 34,
   "metadata": {},
   "outputs": [],
   "source": [
    "# Enter the main event loop\n",
    "top.mainloop()"
   ]
  }
 ],
 "metadata": {
  "kernelspec": {
   "display_name": "Python [conda env:tensorflow_cpu] *",
   "language": "python",
   "name": "conda-env-tensorflow_cpu-py"
  },
  "language_info": {
   "codemirror_mode": {
    "name": "ipython",
    "version": 3
   },
   "file_extension": ".py",
   "mimetype": "text/x-python",
   "name": "python",
   "nbconvert_exporter": "python",
   "pygments_lexer": "ipython3",
   "version": "3.6.9"
  }
 },
 "nbformat": 4,
 "nbformat_minor": 2
}
